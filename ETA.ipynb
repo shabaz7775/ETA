{
 "cells": [
  {
   "cell_type": "markdown",
   "metadata": {},
   "source": [
    "## Importing Packages and Data File"
   ]
  },
  {
   "cell_type": "code",
   "execution_count": 1,
   "metadata": {},
   "outputs": [],
   "source": [
    "import pandas as pd      #Panel Data Analysis\n",
    "import numpy as np       #Numerical Python\n",
    "\n",
    "import seaborn as sns              \n",
    "import matplotlib.pyplot as plt #Data Visualization and EDA\n",
    "%matplotlib inline\n",
    "\n",
    "import time             \n",
    "from datetime import datetime  #Reading and Manipulation of Date and Time\n",
    "\n",
    "from sklearn.preprocessing import StandardScaler\n",
    "'''\n",
    "Rescaling features so that they will have the properties of a Standard Normal Distribution\n",
    "\n",
    "'''\n",
    "\n",
    "from sklearn.model_selection import train_test_split,RandomizedSearchCV\n",
    "'''\n",
    "Train test Split: Splitting data random train and test subsets\n",
    "RandomizedSearchCV: Optimizing parameter values for an estimator\n",
    "\n",
    "'''\n",
    "from sklearn import metrics  #quantifying the quality of our predictions\n",
    "from sklearn.metrics import mean_squared_error #average of the squares of the errors or deviations\n",
    "\n",
    "from sklearn.linear_model import LinearRegression #Linear Regression\n",
    "\n",
    "from sklearn import ensemble #GradientBoostingRegressor\n"
   ]
  },
  {
   "cell_type": "code",
   "execution_count": 2,
   "metadata": {},
   "outputs": [
    {
     "data": {
      "text/html": [
       "<div>\n",
       "<style scoped>\n",
       "    .dataframe tbody tr th:only-of-type {\n",
       "        vertical-align: middle;\n",
       "    }\n",
       "\n",
       "    .dataframe tbody tr th {\n",
       "        vertical-align: top;\n",
       "    }\n",
       "\n",
       "    .dataframe thead th {\n",
       "        text-align: right;\n",
       "    }\n",
       "</style>\n",
       "<table border=\"1\" class=\"dataframe\">\n",
       "  <thead>\n",
       "    <tr style=\"text-align: right;\">\n",
       "      <th></th>\n",
       "      <th>pickup_datetime</th>\n",
       "      <th>dropoff_datetime</th>\n",
       "      <th>holiday</th>\n",
       "      <th>day</th>\n",
       "      <th>pickup_latitude</th>\n",
       "      <th>pickup_longitude</th>\n",
       "      <th>dropoff_latitude</th>\n",
       "      <th>dropoff_longitude</th>\n",
       "      <th>pickup_zip</th>\n",
       "      <th>pickup_location</th>\n",
       "      <th>dropoff_zip</th>\n",
       "      <th>dropoff_location</th>\n",
       "    </tr>\n",
       "    <tr>\n",
       "      <th>bus_id</th>\n",
       "      <th></th>\n",
       "      <th></th>\n",
       "      <th></th>\n",
       "      <th></th>\n",
       "      <th></th>\n",
       "      <th></th>\n",
       "      <th></th>\n",
       "      <th></th>\n",
       "      <th></th>\n",
       "      <th></th>\n",
       "      <th></th>\n",
       "      <th></th>\n",
       "    </tr>\n",
       "  </thead>\n",
       "  <tbody>\n",
       "    <tr>\n",
       "      <th>1</th>\n",
       "      <td>01-01-2017 10:18</td>\n",
       "      <td>01-01-2017 10:53</td>\n",
       "      <td>1</td>\n",
       "      <td>Sunday</td>\n",
       "      <td>11.020522</td>\n",
       "      <td>76.966698</td>\n",
       "      <td>10.998735</td>\n",
       "      <td>77.031978</td>\n",
       "      <td>641012</td>\n",
       "      <td>Gandhipuram</td>\n",
       "      <td>641005</td>\n",
       "      <td>Singanallur</td>\n",
       "    </tr>\n",
       "    <tr>\n",
       "      <th>2</th>\n",
       "      <td>02-01-2017 21:20</td>\n",
       "      <td>02-01-2017 22:00</td>\n",
       "      <td>0</td>\n",
       "      <td>Monday</td>\n",
       "      <td>11.020522</td>\n",
       "      <td>76.966698</td>\n",
       "      <td>10.998735</td>\n",
       "      <td>77.031978</td>\n",
       "      <td>641012</td>\n",
       "      <td>Gandhipuram</td>\n",
       "      <td>641005</td>\n",
       "      <td>Singanallur</td>\n",
       "    </tr>\n",
       "    <tr>\n",
       "      <th>3</th>\n",
       "      <td>03-01-2017 14:10</td>\n",
       "      <td>03-01-2017 14:50</td>\n",
       "      <td>0</td>\n",
       "      <td>Tuesday</td>\n",
       "      <td>11.020522</td>\n",
       "      <td>76.966698</td>\n",
       "      <td>10.998735</td>\n",
       "      <td>77.031978</td>\n",
       "      <td>641012</td>\n",
       "      <td>Gandhipuram</td>\n",
       "      <td>641005</td>\n",
       "      <td>Singanallur</td>\n",
       "    </tr>\n",
       "    <tr>\n",
       "      <th>4</th>\n",
       "      <td>04-01-2017 17:15</td>\n",
       "      <td>04-01-2017 17:58</td>\n",
       "      <td>0</td>\n",
       "      <td>Wednesday</td>\n",
       "      <td>11.020522</td>\n",
       "      <td>76.966698</td>\n",
       "      <td>10.998735</td>\n",
       "      <td>77.031978</td>\n",
       "      <td>641012</td>\n",
       "      <td>Gandhipuram</td>\n",
       "      <td>641005</td>\n",
       "      <td>Singanallur</td>\n",
       "    </tr>\n",
       "    <tr>\n",
       "      <th>5</th>\n",
       "      <td>05-01-2017 15:00</td>\n",
       "      <td>05-01-2017 15:40</td>\n",
       "      <td>0</td>\n",
       "      <td>Thursday</td>\n",
       "      <td>11.020522</td>\n",
       "      <td>76.966698</td>\n",
       "      <td>10.998735</td>\n",
       "      <td>77.031978</td>\n",
       "      <td>641012</td>\n",
       "      <td>Gandhipuram</td>\n",
       "      <td>641005</td>\n",
       "      <td>Singanallur</td>\n",
       "    </tr>\n",
       "  </tbody>\n",
       "</table>\n",
       "</div>"
      ],
      "text/plain": [
       "         pickup_datetime  dropoff_datetime  holiday        day  \\\n",
       "bus_id                                                           \n",
       "1       01-01-2017 10:18  01-01-2017 10:53        1     Sunday   \n",
       "2       02-01-2017 21:20  02-01-2017 22:00        0     Monday   \n",
       "3       03-01-2017 14:10  03-01-2017 14:50        0    Tuesday   \n",
       "4       04-01-2017 17:15  04-01-2017 17:58        0  Wednesday   \n",
       "5       05-01-2017 15:00  05-01-2017 15:40        0   Thursday   \n",
       "\n",
       "        pickup_latitude  pickup_longitude  dropoff_latitude  \\\n",
       "bus_id                                                        \n",
       "1             11.020522         76.966698         10.998735   \n",
       "2             11.020522         76.966698         10.998735   \n",
       "3             11.020522         76.966698         10.998735   \n",
       "4             11.020522         76.966698         10.998735   \n",
       "5             11.020522         76.966698         10.998735   \n",
       "\n",
       "        dropoff_longitude  pickup_zip pickup_location  dropoff_zip  \\\n",
       "bus_id                                                               \n",
       "1               77.031978      641012     Gandhipuram       641005   \n",
       "2               77.031978      641012     Gandhipuram       641005   \n",
       "3               77.031978      641012     Gandhipuram       641005   \n",
       "4               77.031978      641012     Gandhipuram       641005   \n",
       "5               77.031978      641012     Gandhipuram       641005   \n",
       "\n",
       "       dropoff_location  \n",
       "bus_id                   \n",
       "1           Singanallur  \n",
       "2           Singanallur  \n",
       "3           Singanallur  \n",
       "4           Singanallur  \n",
       "5           Singanallur  "
      ]
     },
     "execution_count": 2,
     "metadata": {},
     "output_type": "execute_result"
    }
   ],
   "source": [
    "df = pd.read_csv(\"C:/Users/USER/Documents/Smart_City/bus_data.csv\", index_col = 'bus_id')\n",
    "\n",
    "df.head()"
   ]
  },
  {
   "cell_type": "markdown",
   "metadata": {},
   "source": [
    "## Data Preprocessing"
   ]
  },
  {
   "cell_type": "markdown",
   "metadata": {},
   "source": [
    "##### Understanding the data types\n"
   ]
  },
  {
   "cell_type": "code",
   "execution_count": 3,
   "metadata": {},
   "outputs": [
    {
     "data": {
      "text/plain": [
       "pickup_datetime       object\n",
       "dropoff_datetime      object\n",
       "holiday                int64\n",
       "day                   object\n",
       "pickup_latitude      float64\n",
       "pickup_longitude     float64\n",
       "dropoff_latitude     float64\n",
       "dropoff_longitude    float64\n",
       "pickup_zip             int64\n",
       "pickup_location       object\n",
       "dropoff_zip            int64\n",
       "dropoff_location      object\n",
       "dtype: object"
      ]
     },
     "execution_count": 3,
     "metadata": {},
     "output_type": "execute_result"
    }
   ],
   "source": [
    "df.dtypes"
   ]
  },
  {
   "cell_type": "markdown",
   "metadata": {},
   "source": [
    "##### Converting objects to datetime format\n"
   ]
  },
  {
   "cell_type": "code",
   "execution_count": 4,
   "metadata": {},
   "outputs": [],
   "source": [
    "df['pickup_datetime'] = pd.to_datetime(df['pickup_datetime'])\n",
    "df['dropoff_datetime'] = pd.to_datetime(df['dropoff_datetime'])"
   ]
  },
  {
   "cell_type": "markdown",
   "metadata": {},
   "source": [
    "##### Extracting the distance from the coordinates\n"
   ]
  },
  {
   "cell_type": "code",
   "execution_count": 5,
   "metadata": {},
   "outputs": [],
   "source": [
    "from math import sin, cos, sqrt, atan2, radians\n",
    "\n",
    "def distance_bw_pickup_drop(pickup_latitude, pickup_longitude, dropoff_latitude, dropoff_longitude):\n",
    "    R = 6373.0\n",
    "    dlon = dropoff_longitude - pickup_longitude\n",
    "    dlat = dropoff_latitude - pickup_latitude\n",
    "    a = sin(dlat / 2)**2 + cos(pickup_latitude) * cos(dropoff_latitude) * sin(dlon / 2)**2\n",
    "    c = 2 * atan2(sqrt(a), sqrt(1 - a))\n",
    "    distance = R * c\n",
    "    return distance"
   ]
  },
  {
   "cell_type": "code",
   "execution_count": 6,
   "metadata": {},
   "outputs": [],
   "source": [
    "df['trip_distance'] = df.apply(lambda row: distance_bw_pickup_drop(radians(row.pickup_latitude),radians(row.pickup_longitude), radians(row.dropoff_latitude), radians(row.dropoff_longitude) ), axis=1)"
   ]
  },
  {
   "cell_type": "markdown",
   "metadata": {},
   "source": [
    "##### Extracting the trip duration from the pickup datetime and drop datetime\n"
   ]
  },
  {
   "cell_type": "code",
   "execution_count": 7,
   "metadata": {},
   "outputs": [],
   "source": [
    "df['trip_duration'] = df['dropoff_datetime'] - df['pickup_datetime']\n",
    "\n",
    "'''\n",
    "converting the time dtype to integer dtype and converting the units to seconds\n",
    "\n",
    "'''\n",
    "\n",
    "df['trip_duration'] = df['trip_duration'].apply(lambda x: x.seconds) "
   ]
  },
  {
   "cell_type": "markdown",
   "metadata": {},
   "source": [
    "##### Extracting only the hour from the pickup datetime which is an important feature"
   ]
  },
  {
   "cell_type": "code",
   "execution_count": 8,
   "metadata": {},
   "outputs": [],
   "source": [
    "df['hour_of_day'] = df.pickup_datetime.apply(lambda x: x.hour)"
   ]
  },
  {
   "cell_type": "markdown",
   "metadata": {},
   "source": [
    "## Data After Preprocessing"
   ]
  },
  {
   "cell_type": "code",
   "execution_count": 9,
   "metadata": {},
   "outputs": [
    {
     "data": {
      "text/plain": [
       "pickup_datetime      datetime64[ns]\n",
       "dropoff_datetime     datetime64[ns]\n",
       "holiday                       int64\n",
       "day                          object\n",
       "pickup_latitude             float64\n",
       "pickup_longitude            float64\n",
       "dropoff_latitude            float64\n",
       "dropoff_longitude           float64\n",
       "pickup_zip                    int64\n",
       "pickup_location              object\n",
       "dropoff_zip                   int64\n",
       "dropoff_location             object\n",
       "trip_distance               float64\n",
       "trip_duration                 int64\n",
       "hour_of_day                   int64\n",
       "dtype: object"
      ]
     },
     "execution_count": 9,
     "metadata": {},
     "output_type": "execute_result"
    }
   ],
   "source": [
    "df.dtypes"
   ]
  },
  {
   "cell_type": "code",
   "execution_count": 10,
   "metadata": {},
   "outputs": [
    {
     "data": {
      "text/html": [
       "<div>\n",
       "<style scoped>\n",
       "    .dataframe tbody tr th:only-of-type {\n",
       "        vertical-align: middle;\n",
       "    }\n",
       "\n",
       "    .dataframe tbody tr th {\n",
       "        vertical-align: top;\n",
       "    }\n",
       "\n",
       "    .dataframe thead th {\n",
       "        text-align: right;\n",
       "    }\n",
       "</style>\n",
       "<table border=\"1\" class=\"dataframe\">\n",
       "  <thead>\n",
       "    <tr style=\"text-align: right;\">\n",
       "      <th></th>\n",
       "      <th>pickup_datetime</th>\n",
       "      <th>dropoff_datetime</th>\n",
       "      <th>holiday</th>\n",
       "      <th>day</th>\n",
       "      <th>pickup_latitude</th>\n",
       "      <th>pickup_longitude</th>\n",
       "      <th>dropoff_latitude</th>\n",
       "      <th>dropoff_longitude</th>\n",
       "      <th>pickup_zip</th>\n",
       "      <th>pickup_location</th>\n",
       "      <th>dropoff_zip</th>\n",
       "      <th>dropoff_location</th>\n",
       "      <th>trip_distance</th>\n",
       "      <th>trip_duration</th>\n",
       "      <th>hour_of_day</th>\n",
       "    </tr>\n",
       "    <tr>\n",
       "      <th>bus_id</th>\n",
       "      <th></th>\n",
       "      <th></th>\n",
       "      <th></th>\n",
       "      <th></th>\n",
       "      <th></th>\n",
       "      <th></th>\n",
       "      <th></th>\n",
       "      <th></th>\n",
       "      <th></th>\n",
       "      <th></th>\n",
       "      <th></th>\n",
       "      <th></th>\n",
       "      <th></th>\n",
       "      <th></th>\n",
       "      <th></th>\n",
       "    </tr>\n",
       "  </thead>\n",
       "  <tbody>\n",
       "    <tr>\n",
       "      <th>1</th>\n",
       "      <td>2017-01-01 10:18:00</td>\n",
       "      <td>2017-01-01 10:53:00</td>\n",
       "      <td>1</td>\n",
       "      <td>Sunday</td>\n",
       "      <td>11.020522</td>\n",
       "      <td>76.966698</td>\n",
       "      <td>10.998735</td>\n",
       "      <td>77.031978</td>\n",
       "      <td>641012</td>\n",
       "      <td>Gandhipuram</td>\n",
       "      <td>641005</td>\n",
       "      <td>Singanallur</td>\n",
       "      <td>7.528195</td>\n",
       "      <td>2100</td>\n",
       "      <td>10</td>\n",
       "    </tr>\n",
       "    <tr>\n",
       "      <th>2</th>\n",
       "      <td>2017-02-01 21:20:00</td>\n",
       "      <td>2017-02-01 22:00:00</td>\n",
       "      <td>0</td>\n",
       "      <td>Monday</td>\n",
       "      <td>11.020522</td>\n",
       "      <td>76.966698</td>\n",
       "      <td>10.998735</td>\n",
       "      <td>77.031978</td>\n",
       "      <td>641012</td>\n",
       "      <td>Gandhipuram</td>\n",
       "      <td>641005</td>\n",
       "      <td>Singanallur</td>\n",
       "      <td>7.528195</td>\n",
       "      <td>2400</td>\n",
       "      <td>21</td>\n",
       "    </tr>\n",
       "    <tr>\n",
       "      <th>3</th>\n",
       "      <td>2017-03-01 14:10:00</td>\n",
       "      <td>2017-03-01 14:50:00</td>\n",
       "      <td>0</td>\n",
       "      <td>Tuesday</td>\n",
       "      <td>11.020522</td>\n",
       "      <td>76.966698</td>\n",
       "      <td>10.998735</td>\n",
       "      <td>77.031978</td>\n",
       "      <td>641012</td>\n",
       "      <td>Gandhipuram</td>\n",
       "      <td>641005</td>\n",
       "      <td>Singanallur</td>\n",
       "      <td>7.528195</td>\n",
       "      <td>2400</td>\n",
       "      <td>14</td>\n",
       "    </tr>\n",
       "    <tr>\n",
       "      <th>4</th>\n",
       "      <td>2017-04-01 17:15:00</td>\n",
       "      <td>2017-04-01 17:58:00</td>\n",
       "      <td>0</td>\n",
       "      <td>Wednesday</td>\n",
       "      <td>11.020522</td>\n",
       "      <td>76.966698</td>\n",
       "      <td>10.998735</td>\n",
       "      <td>77.031978</td>\n",
       "      <td>641012</td>\n",
       "      <td>Gandhipuram</td>\n",
       "      <td>641005</td>\n",
       "      <td>Singanallur</td>\n",
       "      <td>7.528195</td>\n",
       "      <td>2580</td>\n",
       "      <td>17</td>\n",
       "    </tr>\n",
       "    <tr>\n",
       "      <th>5</th>\n",
       "      <td>2017-05-01 15:00:00</td>\n",
       "      <td>2017-05-01 15:40:00</td>\n",
       "      <td>0</td>\n",
       "      <td>Thursday</td>\n",
       "      <td>11.020522</td>\n",
       "      <td>76.966698</td>\n",
       "      <td>10.998735</td>\n",
       "      <td>77.031978</td>\n",
       "      <td>641012</td>\n",
       "      <td>Gandhipuram</td>\n",
       "      <td>641005</td>\n",
       "      <td>Singanallur</td>\n",
       "      <td>7.528195</td>\n",
       "      <td>2400</td>\n",
       "      <td>15</td>\n",
       "    </tr>\n",
       "  </tbody>\n",
       "</table>\n",
       "</div>"
      ],
      "text/plain": [
       "           pickup_datetime    dropoff_datetime  holiday        day  \\\n",
       "bus_id                                                               \n",
       "1      2017-01-01 10:18:00 2017-01-01 10:53:00        1     Sunday   \n",
       "2      2017-02-01 21:20:00 2017-02-01 22:00:00        0     Monday   \n",
       "3      2017-03-01 14:10:00 2017-03-01 14:50:00        0    Tuesday   \n",
       "4      2017-04-01 17:15:00 2017-04-01 17:58:00        0  Wednesday   \n",
       "5      2017-05-01 15:00:00 2017-05-01 15:40:00        0   Thursday   \n",
       "\n",
       "        pickup_latitude  pickup_longitude  dropoff_latitude  \\\n",
       "bus_id                                                        \n",
       "1             11.020522         76.966698         10.998735   \n",
       "2             11.020522         76.966698         10.998735   \n",
       "3             11.020522         76.966698         10.998735   \n",
       "4             11.020522         76.966698         10.998735   \n",
       "5             11.020522         76.966698         10.998735   \n",
       "\n",
       "        dropoff_longitude  pickup_zip pickup_location  dropoff_zip  \\\n",
       "bus_id                                                               \n",
       "1               77.031978      641012     Gandhipuram       641005   \n",
       "2               77.031978      641012     Gandhipuram       641005   \n",
       "3               77.031978      641012     Gandhipuram       641005   \n",
       "4               77.031978      641012     Gandhipuram       641005   \n",
       "5               77.031978      641012     Gandhipuram       641005   \n",
       "\n",
       "       dropoff_location  trip_distance  trip_duration  hour_of_day  \n",
       "bus_id                                                              \n",
       "1           Singanallur       7.528195           2100           10  \n",
       "2           Singanallur       7.528195           2400           21  \n",
       "3           Singanallur       7.528195           2400           14  \n",
       "4           Singanallur       7.528195           2580           17  \n",
       "5           Singanallur       7.528195           2400           15  "
      ]
     },
     "execution_count": 10,
     "metadata": {},
     "output_type": "execute_result"
    }
   ],
   "source": [
    "df.head()"
   ]
  },
  {
   "cell_type": "markdown",
   "metadata": {},
   "source": [
    "## Exploratory Data Analysis"
   ]
  },
  {
   "cell_type": "markdown",
   "metadata": {},
   "source": [
    "##### Selecting the variables for our analysis"
   ]
  },
  {
   "cell_type": "code",
   "execution_count": 11,
   "metadata": {},
   "outputs": [],
   "source": [
    "features = ['holiday', 'day', 'dropoff_location', 'trip_distance', 'hour_of_day', 'trip_duration']"
   ]
  },
  {
   "cell_type": "markdown",
   "metadata": {},
   "source": [
    "##### Deriving basic statistics of all variables"
   ]
  },
  {
   "cell_type": "code",
   "execution_count": 12,
   "metadata": {},
   "outputs": [
    {
     "data": {
      "text/html": [
       "<div>\n",
       "<style scoped>\n",
       "    .dataframe tbody tr th:only-of-type {\n",
       "        vertical-align: middle;\n",
       "    }\n",
       "\n",
       "    .dataframe tbody tr th {\n",
       "        vertical-align: top;\n",
       "    }\n",
       "\n",
       "    .dataframe thead th {\n",
       "        text-align: right;\n",
       "    }\n",
       "</style>\n",
       "<table border=\"1\" class=\"dataframe\">\n",
       "  <thead>\n",
       "    <tr style=\"text-align: right;\">\n",
       "      <th></th>\n",
       "      <th>holiday</th>\n",
       "      <th>day</th>\n",
       "      <th>dropoff_location</th>\n",
       "      <th>trip_distance</th>\n",
       "      <th>hour_of_day</th>\n",
       "      <th>trip_duration</th>\n",
       "    </tr>\n",
       "  </thead>\n",
       "  <tbody>\n",
       "    <tr>\n",
       "      <th>count</th>\n",
       "      <td>521.000000</td>\n",
       "      <td>521</td>\n",
       "      <td>521</td>\n",
       "      <td>521.000000</td>\n",
       "      <td>521.000000</td>\n",
       "      <td>521.000000</td>\n",
       "    </tr>\n",
       "    <tr>\n",
       "      <th>unique</th>\n",
       "      <td>NaN</td>\n",
       "      <td>7</td>\n",
       "      <td>4</td>\n",
       "      <td>NaN</td>\n",
       "      <td>NaN</td>\n",
       "      <td>NaN</td>\n",
       "    </tr>\n",
       "    <tr>\n",
       "      <th>top</th>\n",
       "      <td>NaN</td>\n",
       "      <td>Saturday</td>\n",
       "      <td>Railway</td>\n",
       "      <td>NaN</td>\n",
       "      <td>NaN</td>\n",
       "      <td>NaN</td>\n",
       "    </tr>\n",
       "    <tr>\n",
       "      <th>freq</th>\n",
       "      <td>NaN</td>\n",
       "      <td>92</td>\n",
       "      <td>248</td>\n",
       "      <td>NaN</td>\n",
       "      <td>NaN</td>\n",
       "      <td>NaN</td>\n",
       "    </tr>\n",
       "    <tr>\n",
       "      <th>mean</th>\n",
       "      <td>0.067179</td>\n",
       "      <td>NaN</td>\n",
       "      <td>NaN</td>\n",
       "      <td>5.154956</td>\n",
       "      <td>14.383877</td>\n",
       "      <td>1714.318618</td>\n",
       "    </tr>\n",
       "    <tr>\n",
       "      <th>std</th>\n",
       "      <td>0.250571</td>\n",
       "      <td>NaN</td>\n",
       "      <td>NaN</td>\n",
       "      <td>2.355076</td>\n",
       "      <td>5.456687</td>\n",
       "      <td>599.524143</td>\n",
       "    </tr>\n",
       "    <tr>\n",
       "      <th>min</th>\n",
       "      <td>0.000000</td>\n",
       "      <td>NaN</td>\n",
       "      <td>NaN</td>\n",
       "      <td>2.687554</td>\n",
       "      <td>5.000000</td>\n",
       "      <td>720.000000</td>\n",
       "    </tr>\n",
       "    <tr>\n",
       "      <th>25%</th>\n",
       "      <td>0.000000</td>\n",
       "      <td>NaN</td>\n",
       "      <td>NaN</td>\n",
       "      <td>2.687554</td>\n",
       "      <td>9.000000</td>\n",
       "      <td>1260.000000</td>\n",
       "    </tr>\n",
       "    <tr>\n",
       "      <th>50%</th>\n",
       "      <td>0.000000</td>\n",
       "      <td>NaN</td>\n",
       "      <td>NaN</td>\n",
       "      <td>7.287752</td>\n",
       "      <td>15.000000</td>\n",
       "      <td>1500.000000</td>\n",
       "    </tr>\n",
       "    <tr>\n",
       "      <th>75%</th>\n",
       "      <td>0.000000</td>\n",
       "      <td>NaN</td>\n",
       "      <td>NaN</td>\n",
       "      <td>7.367980</td>\n",
       "      <td>19.000000</td>\n",
       "      <td>2160.000000</td>\n",
       "    </tr>\n",
       "    <tr>\n",
       "      <th>max</th>\n",
       "      <td>1.000000</td>\n",
       "      <td>NaN</td>\n",
       "      <td>NaN</td>\n",
       "      <td>7.528195</td>\n",
       "      <td>23.000000</td>\n",
       "      <td>3360.000000</td>\n",
       "    </tr>\n",
       "  </tbody>\n",
       "</table>\n",
       "</div>"
      ],
      "text/plain": [
       "           holiday       day dropoff_location  trip_distance  hour_of_day  \\\n",
       "count   521.000000       521              521     521.000000   521.000000   \n",
       "unique         NaN         7                4            NaN          NaN   \n",
       "top            NaN  Saturday          Railway            NaN          NaN   \n",
       "freq           NaN        92              248            NaN          NaN   \n",
       "mean      0.067179       NaN              NaN       5.154956    14.383877   \n",
       "std       0.250571       NaN              NaN       2.355076     5.456687   \n",
       "min       0.000000       NaN              NaN       2.687554     5.000000   \n",
       "25%       0.000000       NaN              NaN       2.687554     9.000000   \n",
       "50%       0.000000       NaN              NaN       7.287752    15.000000   \n",
       "75%       0.000000       NaN              NaN       7.367980    19.000000   \n",
       "max       1.000000       NaN              NaN       7.528195    23.000000   \n",
       "\n",
       "        trip_duration  \n",
       "count      521.000000  \n",
       "unique            NaN  \n",
       "top               NaN  \n",
       "freq              NaN  \n",
       "mean      1714.318618  \n",
       "std        599.524143  \n",
       "min        720.000000  \n",
       "25%       1260.000000  \n",
       "50%       1500.000000  \n",
       "75%       2160.000000  \n",
       "max       3360.000000  "
      ]
     },
     "execution_count": 12,
     "metadata": {},
     "output_type": "execute_result"
    }
   ],
   "source": [
    "df[features].describe(include='all') #Looking for Null values if any"
   ]
  },
  {
   "cell_type": "markdown",
   "metadata": {},
   "source": [
    "##### Correlation Matrix"
   ]
  },
  {
   "cell_type": "code",
   "execution_count": 13,
   "metadata": {},
   "outputs": [
    {
     "data": {
      "image/png": "[encoded data removed]",
      "text/plain": [
       "<Figure size 648x432 with 2 Axes>"
      ]
     },
     "metadata": {},
     "output_type": "display_data"
    }
   ],
   "source": [
    "corr = df[features].corr()\n",
    "corr\n",
    "\n",
    "f, ax = plt.subplots(figsize=(9, 6))\n",
    "sns.heatmap(corr, annot=True, linewidths=.5, ax=ax)\n",
    "sns.set()"
   ]
  },
  {
   "cell_type": "markdown",
   "metadata": {},
   "source": [
    "##### Scaterplot - Duration vs Distance"
   ]
  },
  {
   "cell_type": "code",
   "execution_count": 14,
   "metadata": {},
   "outputs": [
    {
     "data": {
      "image/png": "[encoded data removed]",
      "text/plain": [
       "<Figure size 432x288 with 1 Axes>"
      ]
     },
     "metadata": {},
     "output_type": "display_data"
    }
   ],
   "source": [
    "c = sns.regplot(x='trip_distance', y='trip_duration', data=df, color='.3')\n",
    "c = plt.title('Distance & Duration - Correlation')\n",
    "c = plt.xlabel('Distance')\n",
    "c = plt.ylabel('Duration')\n",
    "c = sns.set(font_scale=1.3)\n",
    "plt.show()"
   ]
  },
  {
   "cell_type": "markdown",
   "metadata": {},
   "source": [
    "##### HeatMap - Hours of the day\n",
    "### Which are the busiest hours of the day? "
   ]
  },
  {
   "cell_type": "code",
   "execution_count": 15,
   "metadata": {},
   "outputs": [
    {
     "data": {
      "text/plain": [
       "<matplotlib.axes._subplots.AxesSubplot at 0xc0a7d68>"
      ]
     },
     "execution_count": 15,
     "metadata": {},
     "output_type": "execute_result"
    },
    {
     "data": {
      "image/png": "[encoded data removed]",
      "text/plain": [
       "<Figure size 864x504 with 2 Axes>"
      ]
     },
     "metadata": {},
     "output_type": "display_data"
    }
   ],
   "source": [
    "table = pd.pivot_table(df, values='trip_duration', index='hour_of_day', columns='pickup_location' ,aggfunc = np.mean)\n",
    "table = table.dropna()\n",
    "fig, ax= plt.subplots(figsize=(12,7))\n",
    "sns.heatmap(table, fmt=\"\", annot=True, cmap='GnBu', linewidths = 0.30, ax=ax)"
   ]
  },
  {
   "cell_type": "markdown",
   "metadata": {},
   "source": [
    "##### HeatMap - Days of the week\n",
    "### Which are the busiest days of the week? "
   ]
  },
  {
   "cell_type": "code",
   "execution_count": 16,
   "metadata": {},
   "outputs": [
    {
     "data": {
      "text/plain": [
       "<matplotlib.axes._subplots.AxesSubplot at 0xe8194a8>"
      ]
     },
     "execution_count": 16,
     "metadata": {},
     "output_type": "execute_result"
    },
    {
     "data": {
      "image/png": "[encoded data removed]",
      "text/plain": [
       "<Figure size 864x504 with 2 Axes>"
      ]
     },
     "metadata": {},
     "output_type": "display_data"
    }
   ],
   "source": [
    "table = pd.pivot_table(df, values='trip_duration', index='day', columns='pickup_location' ,aggfunc = np.mean)\n",
    "days = ['Sunday', 'Monday', 'Tuesday', 'Wednesday', 'Thursday', 'Friday', 'Saturday']\n",
    "table = table.reindex(days)\n",
    "table = table.dropna()\n",
    "fig, ax= plt.subplots(figsize=(12,7))\n",
    "sns.heatmap(table, fmt=\"\", annot=True, cmap=sns.light_palette(\"Navy\", as_cmap=True), linewidths = 0.30, ax=ax)"
   ]
  },
  {
   "cell_type": "markdown",
   "metadata": {},
   "source": [
    "##### Holiday vs Normal Day"
   ]
  },
  {
   "cell_type": "code",
   "execution_count": 17,
   "metadata": {},
   "outputs": [
    {
     "data": {
      "image/png": "[encoded data removed]",
      "text/plain": [
       "<Figure size 432x288 with 1 Axes>"
      ]
     },
     "metadata": {},
     "output_type": "display_data"
    }
   ],
   "source": [
    "ax = sns.barplot(x=\"holiday\", y=\"trip_duration\",  data= df, palette=\"Set3\")"
   ]
  },
  {
   "cell_type": "markdown",
   "metadata": {},
   "source": [
    "## Handling Categorical Features\n",
    "#### Dummy encoding\n",
    "\n",
    "scikit-learn expects all features to be numeric. So how do we include a categorical feature in our model?\n",
    "\n",
    "- **Ordered categories:** transform them to sensible numeric values (example: small=1, medium=2, large=3)\n",
    "- **Unordered categories:** use dummy encoding (0/1)"
   ]
  },
  {
   "cell_type": "code",
   "execution_count": 18,
   "metadata": {},
   "outputs": [],
   "source": [
    "day_of_week_dummies = pd.get_dummies(df.day, prefix='day_of_week')\n",
    "\n",
    "hour_of_day_dummies = pd.get_dummies(df.hour_of_day, prefix='hour_of_day')\n",
    "\n",
    "dropoff_dummies = pd.get_dummies(df.dropoff_location, prefix='dropoff')"
   ]
  },
  {
   "cell_type": "code",
   "execution_count": 19,
   "metadata": {},
   "outputs": [
    {
     "data": {
      "text/html": [
       "<div>\n",
       "<style scoped>\n",
       "    .dataframe tbody tr th:only-of-type {\n",
       "        vertical-align: middle;\n",
       "    }\n",
       "\n",
       "    .dataframe tbody tr th {\n",
       "        vertical-align: top;\n",
       "    }\n",
       "\n",
       "    .dataframe thead th {\n",
       "        text-align: right;\n",
       "    }\n",
       "</style>\n",
       "<table border=\"1\" class=\"dataframe\">\n",
       "  <thead>\n",
       "    <tr style=\"text-align: right;\">\n",
       "      <th></th>\n",
       "      <th>pickup_datetime</th>\n",
       "      <th>dropoff_datetime</th>\n",
       "      <th>holiday</th>\n",
       "      <th>day</th>\n",
       "      <th>pickup_latitude</th>\n",
       "      <th>pickup_longitude</th>\n",
       "      <th>dropoff_latitude</th>\n",
       "      <th>dropoff_longitude</th>\n",
       "      <th>pickup_zip</th>\n",
       "      <th>pickup_location</th>\n",
       "      <th>...</th>\n",
       "      <th>day_of_week_Monday</th>\n",
       "      <th>day_of_week_Saturday</th>\n",
       "      <th>day_of_week_Sunday</th>\n",
       "      <th>day_of_week_Thursday</th>\n",
       "      <th>day_of_week_Tuesday</th>\n",
       "      <th>day_of_week_Wednesday</th>\n",
       "      <th>dropoff_Railway</th>\n",
       "      <th>dropoff_Saravanampatti</th>\n",
       "      <th>dropoff_Singanallur</th>\n",
       "      <th>dropoff_Thudiyalur</th>\n",
       "    </tr>\n",
       "    <tr>\n",
       "      <th>bus_id</th>\n",
       "      <th></th>\n",
       "      <th></th>\n",
       "      <th></th>\n",
       "      <th></th>\n",
       "      <th></th>\n",
       "      <th></th>\n",
       "      <th></th>\n",
       "      <th></th>\n",
       "      <th></th>\n",
       "      <th></th>\n",
       "      <th></th>\n",
       "      <th></th>\n",
       "      <th></th>\n",
       "      <th></th>\n",
       "      <th></th>\n",
       "      <th></th>\n",
       "      <th></th>\n",
       "      <th></th>\n",
       "      <th></th>\n",
       "      <th></th>\n",
       "      <th></th>\n",
       "    </tr>\n",
       "  </thead>\n",
       "  <tbody>\n",
       "    <tr>\n",
       "      <th>1</th>\n",
       "      <td>2017-01-01 10:18:00</td>\n",
       "      <td>2017-01-01 10:53:00</td>\n",
       "      <td>1</td>\n",
       "      <td>Sunday</td>\n",
       "      <td>11.020522</td>\n",
       "      <td>76.966698</td>\n",
       "      <td>10.998735</td>\n",
       "      <td>77.031978</td>\n",
       "      <td>641012</td>\n",
       "      <td>Gandhipuram</td>\n",
       "      <td>...</td>\n",
       "      <td>0</td>\n",
       "      <td>0</td>\n",
       "      <td>1</td>\n",
       "      <td>0</td>\n",
       "      <td>0</td>\n",
       "      <td>0</td>\n",
       "      <td>0</td>\n",
       "      <td>0</td>\n",
       "      <td>1</td>\n",
       "      <td>0</td>\n",
       "    </tr>\n",
       "    <tr>\n",
       "      <th>2</th>\n",
       "      <td>2017-02-01 21:20:00</td>\n",
       "      <td>2017-02-01 22:00:00</td>\n",
       "      <td>0</td>\n",
       "      <td>Monday</td>\n",
       "      <td>11.020522</td>\n",
       "      <td>76.966698</td>\n",
       "      <td>10.998735</td>\n",
       "      <td>77.031978</td>\n",
       "      <td>641012</td>\n",
       "      <td>Gandhipuram</td>\n",
       "      <td>...</td>\n",
       "      <td>1</td>\n",
       "      <td>0</td>\n",
       "      <td>0</td>\n",
       "      <td>0</td>\n",
       "      <td>0</td>\n",
       "      <td>0</td>\n",
       "      <td>0</td>\n",
       "      <td>0</td>\n",
       "      <td>1</td>\n",
       "      <td>0</td>\n",
       "    </tr>\n",
       "    <tr>\n",
       "      <th>3</th>\n",
       "      <td>2017-03-01 14:10:00</td>\n",
       "      <td>2017-03-01 14:50:00</td>\n",
       "      <td>0</td>\n",
       "      <td>Tuesday</td>\n",
       "      <td>11.020522</td>\n",
       "      <td>76.966698</td>\n",
       "      <td>10.998735</td>\n",
       "      <td>77.031978</td>\n",
       "      <td>641012</td>\n",
       "      <td>Gandhipuram</td>\n",
       "      <td>...</td>\n",
       "      <td>0</td>\n",
       "      <td>0</td>\n",
       "      <td>0</td>\n",
       "      <td>0</td>\n",
       "      <td>1</td>\n",
       "      <td>0</td>\n",
       "      <td>0</td>\n",
       "      <td>0</td>\n",
       "      <td>1</td>\n",
       "      <td>0</td>\n",
       "    </tr>\n",
       "    <tr>\n",
       "      <th>4</th>\n",
       "      <td>2017-04-01 17:15:00</td>\n",
       "      <td>2017-04-01 17:58:00</td>\n",
       "      <td>0</td>\n",
       "      <td>Wednesday</td>\n",
       "      <td>11.020522</td>\n",
       "      <td>76.966698</td>\n",
       "      <td>10.998735</td>\n",
       "      <td>77.031978</td>\n",
       "      <td>641012</td>\n",
       "      <td>Gandhipuram</td>\n",
       "      <td>...</td>\n",
       "      <td>0</td>\n",
       "      <td>0</td>\n",
       "      <td>0</td>\n",
       "      <td>0</td>\n",
       "      <td>0</td>\n",
       "      <td>1</td>\n",
       "      <td>0</td>\n",
       "      <td>0</td>\n",
       "      <td>1</td>\n",
       "      <td>0</td>\n",
       "    </tr>\n",
       "    <tr>\n",
       "      <th>5</th>\n",
       "      <td>2017-05-01 15:00:00</td>\n",
       "      <td>2017-05-01 15:40:00</td>\n",
       "      <td>0</td>\n",
       "      <td>Thursday</td>\n",
       "      <td>11.020522</td>\n",
       "      <td>76.966698</td>\n",
       "      <td>10.998735</td>\n",
       "      <td>77.031978</td>\n",
       "      <td>641012</td>\n",
       "      <td>Gandhipuram</td>\n",
       "      <td>...</td>\n",
       "      <td>0</td>\n",
       "      <td>0</td>\n",
       "      <td>0</td>\n",
       "      <td>1</td>\n",
       "      <td>0</td>\n",
       "      <td>0</td>\n",
       "      <td>0</td>\n",
       "      <td>0</td>\n",
       "      <td>1</td>\n",
       "      <td>0</td>\n",
       "    </tr>\n",
       "  </tbody>\n",
       "</table>\n",
       "<p>5 rows × 39 columns</p>\n",
       "</div>"
      ],
      "text/plain": [
       "           pickup_datetime    dropoff_datetime  holiday        day  \\\n",
       "bus_id                                                               \n",
       "1      2017-01-01 10:18:00 2017-01-01 10:53:00        1     Sunday   \n",
       "2      2017-02-01 21:20:00 2017-02-01 22:00:00        0     Monday   \n",
       "3      2017-03-01 14:10:00 2017-03-01 14:50:00        0    Tuesday   \n",
       "4      2017-04-01 17:15:00 2017-04-01 17:58:00        0  Wednesday   \n",
       "5      2017-05-01 15:00:00 2017-05-01 15:40:00        0   Thursday   \n",
       "\n",
       "        pickup_latitude  pickup_longitude  dropoff_latitude  \\\n",
       "bus_id                                                        \n",
       "1             11.020522         76.966698         10.998735   \n",
       "2             11.020522         76.966698         10.998735   \n",
       "3             11.020522         76.966698         10.998735   \n",
       "4             11.020522         76.966698         10.998735   \n",
       "5             11.020522         76.966698         10.998735   \n",
       "\n",
       "        dropoff_longitude  pickup_zip pickup_location         ...          \\\n",
       "bus_id                                                        ...           \n",
       "1               77.031978      641012     Gandhipuram         ...           \n",
       "2               77.031978      641012     Gandhipuram         ...           \n",
       "3               77.031978      641012     Gandhipuram         ...           \n",
       "4               77.031978      641012     Gandhipuram         ...           \n",
       "5               77.031978      641012     Gandhipuram         ...           \n",
       "\n",
       "        day_of_week_Monday day_of_week_Saturday  day_of_week_Sunday  \\\n",
       "bus_id                                                                \n",
       "1                        0                    0                   1   \n",
       "2                        1                    0                   0   \n",
       "3                        0                    0                   0   \n",
       "4                        0                    0                   0   \n",
       "5                        0                    0                   0   \n",
       "\n",
       "        day_of_week_Thursday  day_of_week_Tuesday  day_of_week_Wednesday  \\\n",
       "bus_id                                                                     \n",
       "1                          0                    0                      0   \n",
       "2                          0                    0                      0   \n",
       "3                          0                    1                      0   \n",
       "4                          0                    0                      1   \n",
       "5                          1                    0                      0   \n",
       "\n",
       "        dropoff_Railway  dropoff_Saravanampatti  dropoff_Singanallur  \\\n",
       "bus_id                                                                 \n",
       "1                     0                       0                    1   \n",
       "2                     0                       0                    1   \n",
       "3                     0                       0                    1   \n",
       "4                     0                       0                    1   \n",
       "5                     0                       0                    1   \n",
       "\n",
       "        dropoff_Thudiyalur  \n",
       "bus_id                      \n",
       "1                        0  \n",
       "2                        0  \n",
       "3                        0  \n",
       "4                        0  \n",
       "5                        0  \n",
       "\n",
       "[5 rows x 39 columns]"
      ]
     },
     "execution_count": 19,
     "metadata": {},
     "output_type": "execute_result"
    }
   ],
   "source": [
    "df = pd.concat([df, hour_of_day_dummies, day_of_week_dummies, dropoff_dummies ], axis=1)\n",
    "df.head()"
   ]
  },
  {
   "cell_type": "code",
   "execution_count": 20,
   "metadata": {},
   "outputs": [],
   "source": [
    "feature_cols = ['hour_of_day_5', 'hour_of_day_6', 'hour_of_day_8', 'hour_of_day_9', 'hour_of_day_10',\n",
    "       'hour_of_day_13', 'hour_of_day_14', 'hour_of_day_15',\n",
    "       'hour_of_day_17', 'hour_of_day_19', 'hour_of_day_20',\n",
    "       'hour_of_day_21', 'hour_of_day_23', 'day_of_week_Sunday',\n",
    "       'day_of_week_Monday', 'day_of_week_Tuesday', 'day_of_week_Wednesday',\n",
    "       'day_of_week_Thursday', 'day_of_week_Friday', 'day_of_week_Saturday',\n",
    "       'dropoff_Singanallur', 'dropoff_Thudiyalur',\n",
    "       'dropoff_Saravanampatti','dropoff_Railway', 'holiday', 'trip_distance']"
   ]
  },
  {
   "cell_type": "markdown",
   "metadata": {},
   "source": [
    "## Fitting a Linear Regression Model"
   ]
  },
  {
   "cell_type": "code",
   "execution_count": 21,
   "metadata": {},
   "outputs": [],
   "source": [
    "X = df[feature_cols]\n",
    "y = df.trip_duration\n",
    "X_train,X_test,y_train,y_test=train_test_split(X, y, random_state=3)"
   ]
  },
  {
   "cell_type": "code",
   "execution_count": 22,
   "metadata": {},
   "outputs": [
    {
     "data": {
      "text/plain": [
       "LinearRegression(copy_X=True, fit_intercept=True, n_jobs=1, normalize=False)"
      ]
     },
     "execution_count": 22,
     "metadata": {},
     "output_type": "execute_result"
    }
   ],
   "source": [
    "lm = LinearRegression()\n",
    "lm"
   ]
  },
  {
   "cell_type": "code",
   "execution_count": 23,
   "metadata": {},
   "outputs": [],
   "source": [
    "linreg = lm.fit(X_train, y_train)"
   ]
  },
  {
   "cell_type": "markdown",
   "metadata": {},
   "source": [
    "#### R2 determines how well the regression line approximates the real data points"
   ]
  },
  {
   "cell_type": "code",
   "execution_count": 24,
   "metadata": {},
   "outputs": [
    {
     "name": "stdout",
     "output_type": "stream",
     "text": [
      "RSquare Value for test data is: 75.00\n",
      "RSquare Value for train data is: 81.00\n"
     ]
    }
   ],
   "source": [
    "rtest = np.round(lm.score(X_test, y_test)*100,0)\n",
    "rtrain = np.round(lm.score(X_train, y_train)*100,0)\n",
    "\n",
    "print(\"RSquare Value for test data is: %.2f\" % rtest)\n",
    "print(\"RSquare Value for train data is: %.2f\" % rtrain)"
   ]
  },
  {
   "cell_type": "markdown",
   "metadata": {},
   "source": [
    "## Evaluation Metrics for Regression\n",
    "\n",
    "\n",
    "**Root Mean Squared Error** (RMSE) is the square root of the mean of the squared errors:\n",
    "\n",
    "$$\\sqrt{\\frac 1n\\sum_{i=1}^n(y_i-\\hat{y}_i)^2}$$"
   ]
  },
  {
   "cell_type": "code",
   "execution_count": 25,
   "metadata": {},
   "outputs": [],
   "source": [
    "from sklearn import metrics\n",
    "\n",
    "def train_test_rmse(feature_cols):\n",
    "    X = df[feature_cols]\n",
    "    y = df.trip_duration\n",
    "    X_train, X_test, y_train, y_test = train_test_split(X, y, random_state=123)\n",
    "    linreg = LinearRegression()\n",
    "    linreg.fit(X_train, y_train)\n",
    "    y_pred = linreg.predict(X_test)\n",
    "    return np.sqrt(metrics.mean_squared_error(y_test, y_pred))"
   ]
  },
  {
   "cell_type": "code",
   "execution_count": 28,
   "metadata": {},
   "outputs": [],
   "source": [
    "rmse = (train_test_rmse(['hour_of_day_5', 'hour_of_day_6', 'hour_of_day_8', 'hour_of_day_9', 'hour_of_day_10',\n",
    "       'hour_of_day_13', 'hour_of_day_14', 'hour_of_day_15',\n",
    "       'hour_of_day_17', 'hour_of_day_19', 'hour_of_day_20',\n",
    "       'hour_of_day_21', 'hour_of_day_23', 'day_of_week_Sunday',\n",
    "       'day_of_week_Monday', 'day_of_week_Tuesday', 'day_of_week_Wednesday',\n",
    "       'day_of_week_Thursday', 'day_of_week_Friday', 'day_of_week_Saturday',\n",
    "       'dropoff_Singanallur', 'dropoff_Thudiyalur',\n",
    "       'dropoff_Saravanampatti','dropoff_Railway', 'holiday', 'trip_distance']))\n",
    "\n",
    "rmse = rmse/60"
   ]
  },
  {
   "cell_type": "code",
   "execution_count": 29,
   "metadata": {},
   "outputs": [
    {
     "name": "stdout",
     "output_type": "stream",
     "text": [
      "RMSE Value for linear regression model is: 4.27\n"
     ]
    }
   ],
   "source": [
    "print(\"RMSE Value for linear regression model is: %.2f\" % rmse) # when converted to minutes"
   ]
  },
  {
   "cell_type": "markdown",
   "metadata": {},
   "source": [
    "## Why are we not using Linear Regression?\n",
    "\n",
    "Pros:\n",
    "\n",
    "- Simple to explain\n",
    "- Highly interpretable\n",
    "- Model training and prediction are fast\n",
    "- No tuning is required (excluding regularization)\n",
    "- Features don't need scaling\n",
    "- Can perform well with a small number of observations\n",
    "\n",
    "Cons:\n",
    "\n",
    "- Presumes a linear relationship between the features and the response\n",
    "- Performance is (generally) not competitive with the best supervised learning"
   ]
  },
  {
   "cell_type": "markdown",
   "metadata": {},
   "source": [
    "## Using Ensemble Method - Gradient Boosting"
   ]
  },
  {
   "cell_type": "markdown",
   "metadata": {},
   "source": [
    "#### Parameter Tuning - Grid Search"
   ]
  },
  {
   "cell_type": "code",
   "execution_count": 36,
   "metadata": {},
   "outputs": [
    {
     "name": "stdout",
     "output_type": "stream",
     "text": [
      "0.753286588061\n",
      "{'n_estimators': 300, 'learning_rate': 0.10000000000000001, 'max_depth': 4, 'min_samples_leaf': 3}\n"
     ]
    },
    {
     "name": "stderr",
     "output_type": "stream",
     "text": [
      "C:\\ProgramData\\Anaconda3\\lib\\site-packages\\sklearn\\model_selection\\_search.py:747: DeprecationWarning: The grid_scores_ attribute was deprecated in version 0.18 in favor of the more elaborate cv_results_ attribute. The grid_scores_ attribute will not be available from 0.20\n",
      "  DeprecationWarning)\n"
     ]
    }
   ],
   "source": [
    "from sklearn.utils import shuffle\n",
    "GBmodel = ensemble.GradientBoostingRegressor()\n",
    "param_dist = {'n_estimators':(250, 300, 500), \"learning_rate\": np.linspace(0.05, 0.15,5),\n",
    "               \"max_depth\": range(3, 5),\n",
    "               \"min_samples_leaf\": range(3, 5)}\n",
    "\n",
    "rand = RandomizedSearchCV(GBmodel, param_dist, cv=7,n_iter=10, random_state=5)\n",
    "rand.fit(X,y)\n",
    "rand.grid_scores_\n",
    "\n",
    "print(rand.best_score_)\n",
    "print(rand.best_params_)"
   ]
  },
  {
   "cell_type": "markdown",
   "metadata": {},
   "source": [
    "#### Model Fitting"
   ]
  },
  {
   "cell_type": "code",
   "execution_count": 40,
   "metadata": {},
   "outputs": [
    {
     "data": {
      "text/plain": [
       "GradientBoostingRegressor(alpha=0.9, criterion='friedman_mse', init=None,\n",
       "             learning_rate=0.01, loss='ls', max_depth=5, max_features=None,\n",
       "             max_leaf_nodes=None, min_impurity_decrease=0.0,\n",
       "             min_impurity_split=None, min_samples_leaf=1,\n",
       "             min_samples_split=2, min_weight_fraction_leaf=0.0,\n",
       "             n_estimators=500, presort='auto', random_state=None,\n",
       "             subsample=1.0, verbose=0, warm_start=False)"
      ]
     },
     "execution_count": 40,
     "metadata": {},
     "output_type": "execute_result"
    }
   ],
   "source": [
    "params = {'n_estimators': 500, 'max_depth': 5, 'min_samples_split': 2,\n",
    "          'learning_rate': 0.01, 'loss': 'ls'}\n",
    "gbr = ensemble.GradientBoostingRegressor(**params)\n",
    "\n",
    "gbr.fit(X_train, y_train)\n"
   ]
  },
  {
   "cell_type": "markdown",
   "metadata": {},
   "source": [
    "#### Evaluation"
   ]
  },
  {
   "cell_type": "code",
   "execution_count": 41,
   "metadata": {},
   "outputs": [
    {
     "name": "stdout",
     "output_type": "stream",
     "text": [
      "RMSE using Gradient Boosting Regressor is: 3.77\n"
     ]
    }
   ],
   "source": [
    "mse = mean_squared_error(y_test, gbr.predict(X_test))\n",
    "rmse = np.sqrt(mse)\n",
    "rmse = rmse/60\n",
    "print(\"RMSE using Gradient Boosting Regressor is: %.2f\" % rmse)"
   ]
  },
  {
   "cell_type": "code",
   "execution_count": 42,
   "metadata": {},
   "outputs": [
    {
     "name": "stdout",
     "output_type": "stream",
     "text": [
      "RSquare Value for test data is: 84.00\n",
      "RSquare Value for train data is: 92.00\n"
     ]
    }
   ],
   "source": [
    "rtest = np.round(gbr.score(X_test, y_test)*100,0)\n",
    "print(\"RSquare Value for test data is: %.2f\" % rtest)\n",
    "rtrain = np.round(gbr.score(X_train, y_train)*100,0)\n",
    "print(\"RSquare Value for train data is: %.2f\" % rtrain)"
   ]
  },
  {
   "cell_type": "markdown",
   "metadata": {},
   "source": [
    "#### Feature Importance"
   ]
  },
  {
   "cell_type": "code",
   "execution_count": 44,
   "metadata": {},
   "outputs": [
    {
     "data": {
      "text/plain": [
       "Text(0.5,1,'Feature Importances - Regression')"
      ]
     },
     "execution_count": 44,
     "metadata": {},
     "output_type": "execute_result"
    },
    {
     "data": {
      "image/png": "[encoded data removed]",
      "text/plain": [
       "<Figure size 432x288 with 1 Axes>"
      ]
     },
     "metadata": {},
     "output_type": "display_data"
    }
   ],
   "source": [
    "importances = gbr.feature_importances_\n",
    "importances_by_trees=[tree[0].feature_importances_ for tree in gbr.estimators_]\n",
    "std = np.std(importances_by_trees,axis=0)\n",
    "indices = np.argsort(importances)[::-1]\n",
    "\n",
    "dff = df[feature_cols]\n",
    "sns.barplot(importances[indices][:20],dff.columns[indices[:20]].values)\n",
    "plt.title(\"Feature Importances - Regression\")"
   ]
  },
  {
   "cell_type": "code",
   "execution_count": null,
   "metadata": {},
   "outputs": [],
   "source": []
  }
 ],
 "metadata": {
  "celltoolbar": "Raw Cell Format",
  "kernelspec": {
   "display_name": "Python 2",
   "language": "python",
   "name": "python2"
  },
  "language_info": {
   "codemirror_mode": {
    "name": "ipython",
    "version": 2
   },
   "file_extension": ".py",
   "mimetype": "text/x-python",
   "name": "python",
   "nbconvert_exporter": "python",
   "pygments_lexer": "ipython2",
   "version": "2.7.14"
  }
 },
 "nbformat": 4,
 "nbformat_minor": 2
}
